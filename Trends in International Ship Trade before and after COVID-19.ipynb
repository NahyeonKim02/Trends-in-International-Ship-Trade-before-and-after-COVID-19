{
 "cells": [
  {
   "cell_type": "markdown",
   "id": "830dcc2c",
   "metadata": {},
   "source": [
    "이 보고서는 portmis.go.kr의 선박입출항현황 데이터를 기반으로 작성되었다.\n",
    "(출처: https://www.data.go.kr/data/15083024/fileData.do)\n",
    "\n",
    "입출항기간을 2020-01-01부터 2021-12-31까지로, 외항입항과 외항출항만을 선택하여 코로나 전후에 따른 국제선박무역 추이를 중점적으로 살펴보고자 하였다."
   ]
  },
  {
   "cell_type": "markdown",
   "id": "b89f545e",
   "metadata": {},
   "source": [
    "## 1. 데이터 정리"
   ]
  },
  {
   "cell_type": "markdown",
   "id": "38cbb807",
   "metadata": {},
   "source": [
    "최대 50000개씩 2년까지 조회됨에 따라, 총 6개로 나눠 다운받아 합치는 과정을 진행하였다.\n",
    "\n",
    "또한 thousands=r','를 통해 총톤수에서의 자릿점을 제거함으로써 수치형으로 인식되도록 하였다."
   ]
  },
  {
   "cell_type": "code",
   "execution_count": 1,
   "id": "04684e02",
   "metadata": {},
   "outputs": [],
   "source": [
    "import numpy as np\n",
    "import pandas as pd\n",
    "import matplotlib.pyplot as plt"
   ]
  },
  {
   "cell_type": "code",
   "execution_count": 10,
   "id": "3f5fb732",
   "metadata": {
    "scrolled": false
   },
   "outputs": [],
   "source": [
    "ship1=pd.ExcelFile('선박입출항현황(1).xlsx')\n",
    "ship2=pd.ExcelFile('선박입출항현황(2).xlsx')\n",
    "ship3=pd.ExcelFile('선박입출항현황(3).xlsx')\n",
    "ship4=pd.ExcelFile('선박입출항현황(4).xlsx')\n",
    "ship5=pd.ExcelFile('선박입출항현황(5).xlsx')\n",
    "ship6=pd.ExcelFile('선박입출항현황(6).xlsx')\n",
    "\n",
    "ship1=ship1.parse('sheet', thousands=r',')\n",
    "ship2=ship2.parse('sheet', thousands=r',')\n",
    "ship3=ship3.parse('sheet', thousands=r',')\n",
    "ship4=ship4.parse('sheet', thousands=r',')\n",
    "ship5=ship5.parse('sheet', thousands=r',')\n",
    "ship6=ship6.parse('sheet', thousands=r',')\n",
    "\n",
    "ship=pd.concat([ship1, ship2, ship3, ship4, ship5, ship6])"
   ]
  },
  {
   "cell_type": "markdown",
   "id": "49280fa0",
   "metadata": {},
   "source": [
    "자료는 아래와 같은 정보를 포함하고 있다."
   ]
  },
  {
   "cell_type": "code",
   "execution_count": 11,
   "id": "3b31f064",
   "metadata": {
    "scrolled": true
   },
   "outputs": [
    {
     "data": {
      "text/html": [
       "<div>\n",
       "<style scoped>\n",
       "    .dataframe tbody tr th:only-of-type {\n",
       "        vertical-align: middle;\n",
       "    }\n",
       "\n",
       "    .dataframe tbody tr th {\n",
       "        vertical-align: top;\n",
       "    }\n",
       "\n",
       "    .dataframe thead th {\n",
       "        text-align: right;\n",
       "    }\n",
       "</style>\n",
       "<table border=\"1\" class=\"dataframe\">\n",
       "  <thead>\n",
       "    <tr style=\"text-align: right;\">\n",
       "      <th></th>\n",
       "      <th>항명</th>\n",
       "      <th>호출부호</th>\n",
       "      <th>선명</th>\n",
       "      <th>입항횟수</th>\n",
       "      <th>입항횟수.1</th>\n",
       "      <th>구분</th>\n",
       "      <th>외내</th>\n",
       "      <th>입출</th>\n",
       "      <th>총톤수</th>\n",
       "      <th>입항일시</th>\n",
       "      <th>...</th>\n",
       "      <th>항해구분</th>\n",
       "      <th>MRN 번호</th>\n",
       "      <th>계선장소</th>\n",
       "      <th>계선장소.1</th>\n",
       "      <th>계선장소.2</th>\n",
       "      <th>차항지</th>\n",
       "      <th>전출항지</th>\n",
       "      <th>선박용도</th>\n",
       "      <th>부선호출부호1</th>\n",
       "      <th>부선호출부호2</th>\n",
       "    </tr>\n",
       "  </thead>\n",
       "  <tbody>\n",
       "    <tr>\n",
       "      <th>0</th>\n",
       "      <td>옥포</td>\n",
       "      <td>3EDF2</td>\n",
       "      <td>HMM ALGECIRAS</td>\n",
       "      <td>2020</td>\n",
       "      <td>1</td>\n",
       "      <td>최종</td>\n",
       "      <td>외항</td>\n",
       "      <td>출항</td>\n",
       "      <td>228283.0</td>\n",
       "      <td>1950-01-01 00:00</td>\n",
       "      <td>...</td>\n",
       "      <td>신조선</td>\n",
       "      <td>20ESLJS083E</td>\n",
       "      <td>MBO</td>\n",
       "      <td>04</td>\n",
       "      <td>옥포 C안벽</td>\n",
       "      <td>QINGDAO</td>\n",
       "      <td>NaN</td>\n",
       "      <td>풀컨테이너선</td>\n",
       "      <td>NaN</td>\n",
       "      <td>NaN</td>\n",
       "    </tr>\n",
       "    <tr>\n",
       "      <th>1</th>\n",
       "      <td>옥포</td>\n",
       "      <td>3EEN3</td>\n",
       "      <td>HMM HELSINKI</td>\n",
       "      <td>2020</td>\n",
       "      <td>1</td>\n",
       "      <td>최종</td>\n",
       "      <td>외항</td>\n",
       "      <td>출항</td>\n",
       "      <td>228283.0</td>\n",
       "      <td>1950-01-01 00:00</td>\n",
       "      <td>...</td>\n",
       "      <td>신조선</td>\n",
       "      <td>20HDMUS193E</td>\n",
       "      <td>MBO</td>\n",
       "      <td>04</td>\n",
       "      <td>옥포 C안벽</td>\n",
       "      <td>장승포</td>\n",
       "      <td>NaN</td>\n",
       "      <td>풀컨테이너선</td>\n",
       "      <td>NaN</td>\n",
       "      <td>NaN</td>\n",
       "    </tr>\n",
       "    <tr>\n",
       "      <th>2</th>\n",
       "      <td>울산</td>\n",
       "      <td>3EFF5</td>\n",
       "      <td>EVER CHARM</td>\n",
       "      <td>2020</td>\n",
       "      <td>1</td>\n",
       "      <td>최종</td>\n",
       "      <td>외항</td>\n",
       "      <td>출항</td>\n",
       "      <td>17933.0</td>\n",
       "      <td>1950-01-01 00:00</td>\n",
       "      <td>...</td>\n",
       "      <td>신조선</td>\n",
       "      <td>20GRTSD110E</td>\n",
       "      <td>WAB</td>\n",
       "      <td>02</td>\n",
       "      <td>(구)벙커링전용정박지 E2</td>\n",
       "      <td>KAOHSIUNG</td>\n",
       "      <td>NaN</td>\n",
       "      <td>신조선</td>\n",
       "      <td>NaN</td>\n",
       "      <td>NaN</td>\n",
       "    </tr>\n",
       "    <tr>\n",
       "      <th>3</th>\n",
       "      <td>고현</td>\n",
       "      <td>3EHU5</td>\n",
       "      <td>HMM STOCKHOLM</td>\n",
       "      <td>2020</td>\n",
       "      <td>1</td>\n",
       "      <td>최종</td>\n",
       "      <td>외항</td>\n",
       "      <td>출항</td>\n",
       "      <td>232311.0</td>\n",
       "      <td>1950-01-01 00:00</td>\n",
       "      <td>...</td>\n",
       "      <td>신조선</td>\n",
       "      <td>20HDMUS212E</td>\n",
       "      <td>MBK</td>\n",
       "      <td>13</td>\n",
       "      <td>J안벽</td>\n",
       "      <td>부산</td>\n",
       "      <td>NaN</td>\n",
       "      <td>풀컨테이너선</td>\n",
       "      <td>NaN</td>\n",
       "      <td>NaN</td>\n",
       "    </tr>\n",
       "    <tr>\n",
       "      <th>4</th>\n",
       "      <td>옥포</td>\n",
       "      <td>3EIO3</td>\n",
       "      <td>HMM COPENHAGEN</td>\n",
       "      <td>2020</td>\n",
       "      <td>1</td>\n",
       "      <td>최종</td>\n",
       "      <td>외항</td>\n",
       "      <td>출항</td>\n",
       "      <td>228283.0</td>\n",
       "      <td>1950-01-01 00:00</td>\n",
       "      <td>...</td>\n",
       "      <td>신조선</td>\n",
       "      <td>20HDMUS109E</td>\n",
       "      <td>MBO</td>\n",
       "      <td>06</td>\n",
       "      <td>옥포 E안벽</td>\n",
       "      <td>부산</td>\n",
       "      <td>NaN</td>\n",
       "      <td>풀컨테이너선</td>\n",
       "      <td>NaN</td>\n",
       "      <td>NaN</td>\n",
       "    </tr>\n",
       "  </tbody>\n",
       "</table>\n",
       "<p>5 rows × 22 columns</p>\n",
       "</div>"
      ],
      "text/plain": [
       "   항명   호출부호              선명  입항횟수  입항횟수.1  구분  외내  입출       총톤수  \\\n",
       "0  옥포  3EDF2   HMM ALGECIRAS  2020       1  최종  외항  출항  228283.0   \n",
       "1  옥포  3EEN3    HMM HELSINKI  2020       1  최종  외항  출항  228283.0   \n",
       "2  울산  3EFF5      EVER CHARM  2020       1  최종  외항  출항   17933.0   \n",
       "3  고현  3EHU5   HMM STOCKHOLM  2020       1  최종  외항  출항  232311.0   \n",
       "4  옥포  3EIO3  HMM COPENHAGEN  2020       1  최종  외항  출항  228283.0   \n",
       "\n",
       "               입항일시  ... 항해구분       MRN 번호 계선장소 계선장소.1          계선장소.2  \\\n",
       "0  1950-01-01 00:00  ...  신조선  20ESLJS083E  MBO     04          옥포 C안벽   \n",
       "1  1950-01-01 00:00  ...  신조선  20HDMUS193E  MBO     04          옥포 C안벽   \n",
       "2  1950-01-01 00:00  ...  신조선  20GRTSD110E  WAB     02  (구)벙커링전용정박지 E2   \n",
       "3  1950-01-01 00:00  ...  신조선  20HDMUS212E  MBK     13             J안벽   \n",
       "4  1950-01-01 00:00  ...  신조선  20HDMUS109E  MBO     06          옥포 E안벽   \n",
       "\n",
       "         차항지 전출항지    선박용도 부선호출부호1 부선호출부호2  \n",
       "0    QINGDAO  NaN  풀컨테이너선     NaN     NaN  \n",
       "1        장승포  NaN  풀컨테이너선     NaN     NaN  \n",
       "2  KAOHSIUNG  NaN     신조선     NaN     NaN  \n",
       "3         부산  NaN  풀컨테이너선     NaN     NaN  \n",
       "4         부산  NaN  풀컨테이너선     NaN     NaN  \n",
       "\n",
       "[5 rows x 22 columns]"
      ]
     },
     "execution_count": 11,
     "metadata": {},
     "output_type": "execute_result"
    }
   ],
   "source": [
    "ship.head()"
   ]
  },
  {
   "cell_type": "markdown",
   "id": "ef9dae99",
   "metadata": {},
   "source": [
    "필요없는 컬럼을 제외하여 모든 컬럼이 보일 수 있도록 조정하였고, 컬럼 이름을 알아보기 쉽게 변경하였다."
   ]
  },
  {
   "cell_type": "code",
   "execution_count": 12,
   "id": "abdbf850",
   "metadata": {},
   "outputs": [],
   "source": [
    "ship=ship.drop(['외내','MRN 번호','계선장소','계선장소.1','계선장소.2','부선호출부호1','부선호출부호2'], axis=1)\n",
    "ship.columns=['항명','호출부호','선명','연도','횟수','구분','입출','총톤수','입항일시','출항일시','수리일시','선종','목적지','전출항지','선박용도']"
   ]
  },
  {
   "cell_type": "code",
   "execution_count": 13,
   "id": "d29bd708",
   "metadata": {
    "scrolled": true
   },
   "outputs": [
    {
     "data": {
      "text/html": [
       "<div>\n",
       "<style scoped>\n",
       "    .dataframe tbody tr th:only-of-type {\n",
       "        vertical-align: middle;\n",
       "    }\n",
       "\n",
       "    .dataframe tbody tr th {\n",
       "        vertical-align: top;\n",
       "    }\n",
       "\n",
       "    .dataframe thead th {\n",
       "        text-align: right;\n",
       "    }\n",
       "</style>\n",
       "<table border=\"1\" class=\"dataframe\">\n",
       "  <thead>\n",
       "    <tr style=\"text-align: right;\">\n",
       "      <th></th>\n",
       "      <th>항명</th>\n",
       "      <th>호출부호</th>\n",
       "      <th>선명</th>\n",
       "      <th>연도</th>\n",
       "      <th>횟수</th>\n",
       "      <th>구분</th>\n",
       "      <th>입출</th>\n",
       "      <th>총톤수</th>\n",
       "      <th>입항일시</th>\n",
       "      <th>출항일시</th>\n",
       "      <th>수리일시</th>\n",
       "      <th>선종</th>\n",
       "      <th>목적지</th>\n",
       "      <th>전출항지</th>\n",
       "      <th>선박용도</th>\n",
       "    </tr>\n",
       "  </thead>\n",
       "  <tbody>\n",
       "    <tr>\n",
       "      <th>0</th>\n",
       "      <td>옥포</td>\n",
       "      <td>3EDF2</td>\n",
       "      <td>HMM ALGECIRAS</td>\n",
       "      <td>2020</td>\n",
       "      <td>1</td>\n",
       "      <td>최종</td>\n",
       "      <td>출항</td>\n",
       "      <td>228283.0</td>\n",
       "      <td>1950-01-01 00:00</td>\n",
       "      <td>2020-04-24 10:00</td>\n",
       "      <td>2020-04-28 09:48</td>\n",
       "      <td>신조선</td>\n",
       "      <td>QINGDAO</td>\n",
       "      <td>NaN</td>\n",
       "      <td>풀컨테이너선</td>\n",
       "    </tr>\n",
       "    <tr>\n",
       "      <th>1</th>\n",
       "      <td>옥포</td>\n",
       "      <td>3EEN3</td>\n",
       "      <td>HMM HELSINKI</td>\n",
       "      <td>2020</td>\n",
       "      <td>1</td>\n",
       "      <td>최종</td>\n",
       "      <td>출항</td>\n",
       "      <td>228283.0</td>\n",
       "      <td>1950-01-01 00:00</td>\n",
       "      <td>2020-07-17 14:00</td>\n",
       "      <td>2020-07-20 14:54</td>\n",
       "      <td>신조선</td>\n",
       "      <td>장승포</td>\n",
       "      <td>NaN</td>\n",
       "      <td>풀컨테이너선</td>\n",
       "    </tr>\n",
       "    <tr>\n",
       "      <th>2</th>\n",
       "      <td>울산</td>\n",
       "      <td>3EFF5</td>\n",
       "      <td>EVER CHARM</td>\n",
       "      <td>2020</td>\n",
       "      <td>1</td>\n",
       "      <td>최종</td>\n",
       "      <td>출항</td>\n",
       "      <td>17933.0</td>\n",
       "      <td>1950-01-01 00:00</td>\n",
       "      <td>2020-06-16 20:05</td>\n",
       "      <td>2020-06-19 18:15</td>\n",
       "      <td>신조선</td>\n",
       "      <td>KAOHSIUNG</td>\n",
       "      <td>NaN</td>\n",
       "      <td>신조선</td>\n",
       "    </tr>\n",
       "    <tr>\n",
       "      <th>3</th>\n",
       "      <td>고현</td>\n",
       "      <td>3EHU5</td>\n",
       "      <td>HMM STOCKHOLM</td>\n",
       "      <td>2020</td>\n",
       "      <td>1</td>\n",
       "      <td>최종</td>\n",
       "      <td>출항</td>\n",
       "      <td>232311.0</td>\n",
       "      <td>1950-01-01 00:00</td>\n",
       "      <td>2020-08-17 01:00</td>\n",
       "      <td>2020-09-02 10:50</td>\n",
       "      <td>신조선</td>\n",
       "      <td>부산</td>\n",
       "      <td>NaN</td>\n",
       "      <td>풀컨테이너선</td>\n",
       "    </tr>\n",
       "    <tr>\n",
       "      <th>4</th>\n",
       "      <td>옥포</td>\n",
       "      <td>3EIO3</td>\n",
       "      <td>HMM COPENHAGEN</td>\n",
       "      <td>2020</td>\n",
       "      <td>1</td>\n",
       "      <td>최종</td>\n",
       "      <td>출항</td>\n",
       "      <td>228283.0</td>\n",
       "      <td>1950-01-01 00:00</td>\n",
       "      <td>2020-05-22 10:00</td>\n",
       "      <td>2020-05-28 09:35</td>\n",
       "      <td>신조선</td>\n",
       "      <td>부산</td>\n",
       "      <td>NaN</td>\n",
       "      <td>풀컨테이너선</td>\n",
       "    </tr>\n",
       "  </tbody>\n",
       "</table>\n",
       "</div>"
      ],
      "text/plain": [
       "   항명   호출부호              선명    연도  횟수  구분  입출       총톤수              입항일시  \\\n",
       "0  옥포  3EDF2   HMM ALGECIRAS  2020   1  최종  출항  228283.0  1950-01-01 00:00   \n",
       "1  옥포  3EEN3    HMM HELSINKI  2020   1  최종  출항  228283.0  1950-01-01 00:00   \n",
       "2  울산  3EFF5      EVER CHARM  2020   1  최종  출항   17933.0  1950-01-01 00:00   \n",
       "3  고현  3EHU5   HMM STOCKHOLM  2020   1  최종  출항  232311.0  1950-01-01 00:00   \n",
       "4  옥포  3EIO3  HMM COPENHAGEN  2020   1  최종  출항  228283.0  1950-01-01 00:00   \n",
       "\n",
       "               출항일시              수리일시   선종        목적지 전출항지    선박용도  \n",
       "0  2020-04-24 10:00  2020-04-28 09:48  신조선    QINGDAO  NaN  풀컨테이너선  \n",
       "1  2020-07-17 14:00  2020-07-20 14:54  신조선        장승포  NaN  풀컨테이너선  \n",
       "2  2020-06-16 20:05  2020-06-19 18:15  신조선  KAOHSIUNG  NaN     신조선  \n",
       "3  2020-08-17 01:00  2020-09-02 10:50  신조선         부산  NaN  풀컨테이너선  \n",
       "4  2020-05-22 10:00  2020-05-28 09:35  신조선         부산  NaN  풀컨테이너선  "
      ]
     },
     "execution_count": 13,
     "metadata": {},
     "output_type": "execute_result"
    }
   ],
   "source": [
    "ship.head()"
   ]
  },
  {
   "cell_type": "code",
   "execution_count": 14,
   "id": "00a5b672",
   "metadata": {
    "scrolled": true
   },
   "outputs": [
    {
     "name": "stdout",
     "output_type": "stream",
     "text": [
      "<class 'pandas.core.frame.DataFrame'>\n",
      "Int64Index: 297458 entries, 0 to 47457\n",
      "Data columns (total 15 columns):\n",
      " #   Column  Non-Null Count   Dtype  \n",
      "---  ------  --------------   -----  \n",
      " 0   항명      297458 non-null  object \n",
      " 1   호출부호    297458 non-null  object \n",
      " 2   선명      297458 non-null  object \n",
      " 3   연도      297458 non-null  int64  \n",
      " 4   횟수      297458 non-null  int64  \n",
      " 5   구분      297458 non-null  object \n",
      " 6   입출      297458 non-null  object \n",
      " 7   총톤수     297287 non-null  float64\n",
      " 8   입항일시    297458 non-null  object \n",
      " 9   출항일시    297427 non-null  object \n",
      " 10  수리일시    297173 non-null  object \n",
      " 11  선종      297367 non-null  object \n",
      " 12  목적지     297229 non-null  object \n",
      " 13  전출항지    296958 non-null  object \n",
      " 14  선박용도    297405 non-null  object \n",
      "dtypes: float64(1), int64(2), object(12)\n",
      "memory usage: 36.3+ MB\n"
     ]
    }
   ],
   "source": [
    "ship.info()"
   ]
  },
  {
   "cell_type": "markdown",
   "id": "204e964e",
   "metadata": {},
   "source": [
    "실질적으로 범주형 및 시계열 변수인 것들의 타입을 변경하였다."
   ]
  },
  {
   "cell_type": "code",
   "execution_count": 15,
   "id": "364fe6a1",
   "metadata": {},
   "outputs": [],
   "source": [
    "ship['연도'] = pd.Categorical(ship['연도'])\n",
    "ship['구분'] = pd.Categorical(ship['구분'])\n",
    "ship['입출'] = pd.Categorical(ship['입출'])\n",
    "ship['입항일시'] = pd.to_datetime(ship['입항일시'])\n",
    "ship['출항일시'] = pd.to_datetime(ship['출항일시'])\n",
    "ship['수리일시'] = pd.to_datetime(ship['수리일시'])\n",
    "ship['선종'] = pd.Categorical(ship['선종'])\n",
    "ship['전출항지'] = pd.Categorical(ship['전출항지'])\n",
    "ship['선박용도'] = pd.Categorical(ship['선박용도'])"
   ]
  },
  {
   "cell_type": "code",
   "execution_count": 16,
   "id": "eed417b4",
   "metadata": {
    "scrolled": true
   },
   "outputs": [
    {
     "name": "stdout",
     "output_type": "stream",
     "text": [
      "<class 'pandas.core.frame.DataFrame'>\n",
      "Int64Index: 297458 entries, 0 to 47457\n",
      "Data columns (total 15 columns):\n",
      " #   Column  Non-Null Count   Dtype         \n",
      "---  ------  --------------   -----         \n",
      " 0   항명      297458 non-null  object        \n",
      " 1   호출부호    297458 non-null  object        \n",
      " 2   선명      297458 non-null  object        \n",
      " 3   연도      297458 non-null  category      \n",
      " 4   횟수      297458 non-null  int64         \n",
      " 5   구분      297458 non-null  category      \n",
      " 6   입출      297458 non-null  category      \n",
      " 7   총톤수     297287 non-null  float64       \n",
      " 8   입항일시    297458 non-null  datetime64[ns]\n",
      " 9   출항일시    297427 non-null  datetime64[ns]\n",
      " 10  수리일시    297173 non-null  datetime64[ns]\n",
      " 11  선종      297367 non-null  category      \n",
      " 12  목적지     297229 non-null  object        \n",
      " 13  전출항지    296958 non-null  category      \n",
      " 14  선박용도    297405 non-null  category      \n",
      "dtypes: category(6), datetime64[ns](3), float64(1), int64(1), object(4)\n",
      "memory usage: 24.7+ MB\n"
     ]
    }
   ],
   "source": [
    "ship.info()"
   ]
  },
  {
   "cell_type": "code",
   "execution_count": 17,
   "id": "484f3720",
   "metadata": {
    "scrolled": false
   },
   "outputs": [
    {
     "name": "stderr",
     "output_type": "stream",
     "text": [
      "C:\\Users\\user\\AppData\\Local\\Temp\\ipykernel_23984\\2146002061.py:1: FutureWarning: Treating datetime data as categorical rather than numeric in `.describe` is deprecated and will be removed in a future version of pandas. Specify `datetime_is_numeric=True` to silence this warning and adopt the future behavior now.\n",
      "  ship.describe(include='all')\n",
      "C:\\Users\\user\\AppData\\Local\\Temp\\ipykernel_23984\\2146002061.py:1: FutureWarning: Treating datetime data as categorical rather than numeric in `.describe` is deprecated and will be removed in a future version of pandas. Specify `datetime_is_numeric=True` to silence this warning and adopt the future behavior now.\n",
      "  ship.describe(include='all')\n",
      "C:\\Users\\user\\AppData\\Local\\Temp\\ipykernel_23984\\2146002061.py:1: FutureWarning: Treating datetime data as categorical rather than numeric in `.describe` is deprecated and will be removed in a future version of pandas. Specify `datetime_is_numeric=True` to silence this warning and adopt the future behavior now.\n",
      "  ship.describe(include='all')\n"
     ]
    },
    {
     "data": {
      "text/html": [
       "<div>\n",
       "<style scoped>\n",
       "    .dataframe tbody tr th:only-of-type {\n",
       "        vertical-align: middle;\n",
       "    }\n",
       "\n",
       "    .dataframe tbody tr th {\n",
       "        vertical-align: top;\n",
       "    }\n",
       "\n",
       "    .dataframe thead th {\n",
       "        text-align: right;\n",
       "    }\n",
       "</style>\n",
       "<table border=\"1\" class=\"dataframe\">\n",
       "  <thead>\n",
       "    <tr style=\"text-align: right;\">\n",
       "      <th></th>\n",
       "      <th>항명</th>\n",
       "      <th>호출부호</th>\n",
       "      <th>선명</th>\n",
       "      <th>연도</th>\n",
       "      <th>횟수</th>\n",
       "      <th>구분</th>\n",
       "      <th>입출</th>\n",
       "      <th>총톤수</th>\n",
       "      <th>입항일시</th>\n",
       "      <th>출항일시</th>\n",
       "      <th>수리일시</th>\n",
       "      <th>선종</th>\n",
       "      <th>목적지</th>\n",
       "      <th>전출항지</th>\n",
       "      <th>선박용도</th>\n",
       "    </tr>\n",
       "  </thead>\n",
       "  <tbody>\n",
       "    <tr>\n",
       "      <th>count</th>\n",
       "      <td>297458</td>\n",
       "      <td>297458</td>\n",
       "      <td>297458</td>\n",
       "      <td>297458.0</td>\n",
       "      <td>297458.000000</td>\n",
       "      <td>297458</td>\n",
       "      <td>297458</td>\n",
       "      <td>297287.000000</td>\n",
       "      <td>297458</td>\n",
       "      <td>297427</td>\n",
       "      <td>297173</td>\n",
       "      <td>297367</td>\n",
       "      <td>297229</td>\n",
       "      <td>296958</td>\n",
       "      <td>297405</td>\n",
       "    </tr>\n",
       "    <tr>\n",
       "      <th>unique</th>\n",
       "      <td>39</td>\n",
       "      <td>16361</td>\n",
       "      <td>16089</td>\n",
       "      <td>7.0</td>\n",
       "      <td>NaN</td>\n",
       "      <td>3</td>\n",
       "      <td>2</td>\n",
       "      <td>NaN</td>\n",
       "      <td>110808</td>\n",
       "      <td>109003</td>\n",
       "      <td>110398</td>\n",
       "      <td>11</td>\n",
       "      <td>1520</td>\n",
       "      <td>1390</td>\n",
       "      <td>39</td>\n",
       "    </tr>\n",
       "    <tr>\n",
       "      <th>top</th>\n",
       "      <td>부산</td>\n",
       "      <td>JG5720</td>\n",
       "      <td>뉴 카멜리아</td>\n",
       "      <td>2020.0</td>\n",
       "      <td>NaN</td>\n",
       "      <td>최종</td>\n",
       "      <td>출항</td>\n",
       "      <td>NaN</td>\n",
       "      <td>1950-01-01 00:00:00</td>\n",
       "      <td>2020-08-12 16:00:00</td>\n",
       "      <td>1950-01-01 00:00:00</td>\n",
       "      <td>기타</td>\n",
       "      <td>OCEAN DISTRICT</td>\n",
       "      <td>부산</td>\n",
       "      <td>풀컨테이너선</td>\n",
       "    </tr>\n",
       "    <tr>\n",
       "      <th>freq</th>\n",
       "      <td>91344</td>\n",
       "      <td>1189</td>\n",
       "      <td>1189</td>\n",
       "      <td>150607.0</td>\n",
       "      <td>NaN</td>\n",
       "      <td>297271</td>\n",
       "      <td>148767</td>\n",
       "      <td>NaN</td>\n",
       "      <td>157</td>\n",
       "      <td>26</td>\n",
       "      <td>135</td>\n",
       "      <td>293117</td>\n",
       "      <td>14993</td>\n",
       "      <td>18367</td>\n",
       "      <td>87143</td>\n",
       "    </tr>\n",
       "    <tr>\n",
       "      <th>first</th>\n",
       "      <td>NaN</td>\n",
       "      <td>NaN</td>\n",
       "      <td>NaN</td>\n",
       "      <td>NaN</td>\n",
       "      <td>NaN</td>\n",
       "      <td>NaN</td>\n",
       "      <td>NaN</td>\n",
       "      <td>NaN</td>\n",
       "      <td>1950-01-01 00:00:00</td>\n",
       "      <td>2020-01-01 00:00:00</td>\n",
       "      <td>1950-01-01 00:00:00</td>\n",
       "      <td>NaN</td>\n",
       "      <td>NaN</td>\n",
       "      <td>NaN</td>\n",
       "      <td>NaN</td>\n",
       "    </tr>\n",
       "    <tr>\n",
       "      <th>last</th>\n",
       "      <td>NaN</td>\n",
       "      <td>NaN</td>\n",
       "      <td>NaN</td>\n",
       "      <td>NaN</td>\n",
       "      <td>NaN</td>\n",
       "      <td>NaN</td>\n",
       "      <td>NaN</td>\n",
       "      <td>NaN</td>\n",
       "      <td>2021-12-31 23:58:00</td>\n",
       "      <td>2022-10-31 07:45:00</td>\n",
       "      <td>2022-09-29 17:33:00</td>\n",
       "      <td>NaN</td>\n",
       "      <td>NaN</td>\n",
       "      <td>NaN</td>\n",
       "      <td>NaN</td>\n",
       "    </tr>\n",
       "    <tr>\n",
       "      <th>mean</th>\n",
       "      <td>NaN</td>\n",
       "      <td>NaN</td>\n",
       "      <td>NaN</td>\n",
       "      <td>NaN</td>\n",
       "      <td>10.362797</td>\n",
       "      <td>NaN</td>\n",
       "      <td>NaN</td>\n",
       "      <td>24347.731698</td>\n",
       "      <td>NaN</td>\n",
       "      <td>NaN</td>\n",
       "      <td>NaN</td>\n",
       "      <td>NaN</td>\n",
       "      <td>NaN</td>\n",
       "      <td>NaN</td>\n",
       "      <td>NaN</td>\n",
       "    </tr>\n",
       "    <tr>\n",
       "      <th>std</th>\n",
       "      <td>NaN</td>\n",
       "      <td>NaN</td>\n",
       "      <td>NaN</td>\n",
       "      <td>NaN</td>\n",
       "      <td>21.067722</td>\n",
       "      <td>NaN</td>\n",
       "      <td>NaN</td>\n",
       "      <td>33679.294969</td>\n",
       "      <td>NaN</td>\n",
       "      <td>NaN</td>\n",
       "      <td>NaN</td>\n",
       "      <td>NaN</td>\n",
       "      <td>NaN</td>\n",
       "      <td>NaN</td>\n",
       "      <td>NaN</td>\n",
       "    </tr>\n",
       "    <tr>\n",
       "      <th>min</th>\n",
       "      <td>NaN</td>\n",
       "      <td>NaN</td>\n",
       "      <td>NaN</td>\n",
       "      <td>NaN</td>\n",
       "      <td>1.000000</td>\n",
       "      <td>NaN</td>\n",
       "      <td>NaN</td>\n",
       "      <td>0.000000</td>\n",
       "      <td>NaN</td>\n",
       "      <td>NaN</td>\n",
       "      <td>NaN</td>\n",
       "      <td>NaN</td>\n",
       "      <td>NaN</td>\n",
       "      <td>NaN</td>\n",
       "      <td>NaN</td>\n",
       "    </tr>\n",
       "    <tr>\n",
       "      <th>25%</th>\n",
       "      <td>NaN</td>\n",
       "      <td>NaN</td>\n",
       "      <td>NaN</td>\n",
       "      <td>NaN</td>\n",
       "      <td>1.000000</td>\n",
       "      <td>NaN</td>\n",
       "      <td>NaN</td>\n",
       "      <td>3869.000000</td>\n",
       "      <td>NaN</td>\n",
       "      <td>NaN</td>\n",
       "      <td>NaN</td>\n",
       "      <td>NaN</td>\n",
       "      <td>NaN</td>\n",
       "      <td>NaN</td>\n",
       "      <td>NaN</td>\n",
       "    </tr>\n",
       "    <tr>\n",
       "      <th>50%</th>\n",
       "      <td>NaN</td>\n",
       "      <td>NaN</td>\n",
       "      <td>NaN</td>\n",
       "      <td>NaN</td>\n",
       "      <td>3.000000</td>\n",
       "      <td>NaN</td>\n",
       "      <td>NaN</td>\n",
       "      <td>9749.000000</td>\n",
       "      <td>NaN</td>\n",
       "      <td>NaN</td>\n",
       "      <td>NaN</td>\n",
       "      <td>NaN</td>\n",
       "      <td>NaN</td>\n",
       "      <td>NaN</td>\n",
       "      <td>NaN</td>\n",
       "    </tr>\n",
       "    <tr>\n",
       "      <th>75%</th>\n",
       "      <td>NaN</td>\n",
       "      <td>NaN</td>\n",
       "      <td>NaN</td>\n",
       "      <td>NaN</td>\n",
       "      <td>10.000000</td>\n",
       "      <td>NaN</td>\n",
       "      <td>NaN</td>\n",
       "      <td>30082.000000</td>\n",
       "      <td>NaN</td>\n",
       "      <td>NaN</td>\n",
       "      <td>NaN</td>\n",
       "      <td>NaN</td>\n",
       "      <td>NaN</td>\n",
       "      <td>NaN</td>\n",
       "      <td>NaN</td>\n",
       "    </tr>\n",
       "    <tr>\n",
       "      <th>max</th>\n",
       "      <td>NaN</td>\n",
       "      <td>NaN</td>\n",
       "      <td>NaN</td>\n",
       "      <td>NaN</td>\n",
       "      <td>308.000000</td>\n",
       "      <td>NaN</td>\n",
       "      <td>NaN</td>\n",
       "      <td>346165.000000</td>\n",
       "      <td>NaN</td>\n",
       "      <td>NaN</td>\n",
       "      <td>NaN</td>\n",
       "      <td>NaN</td>\n",
       "      <td>NaN</td>\n",
       "      <td>NaN</td>\n",
       "      <td>NaN</td>\n",
       "    </tr>\n",
       "  </tbody>\n",
       "</table>\n",
       "</div>"
      ],
      "text/plain": [
       "            항명    호출부호      선명        연도             횟수      구분      입출  \\\n",
       "count   297458  297458  297458  297458.0  297458.000000  297458  297458   \n",
       "unique      39   16361   16089       7.0            NaN       3       2   \n",
       "top         부산  JG5720  뉴 카멜리아    2020.0            NaN      최종      출항   \n",
       "freq     91344    1189    1189  150607.0            NaN  297271  148767   \n",
       "first      NaN     NaN     NaN       NaN            NaN     NaN     NaN   \n",
       "last       NaN     NaN     NaN       NaN            NaN     NaN     NaN   \n",
       "mean       NaN     NaN     NaN       NaN      10.362797     NaN     NaN   \n",
       "std        NaN     NaN     NaN       NaN      21.067722     NaN     NaN   \n",
       "min        NaN     NaN     NaN       NaN       1.000000     NaN     NaN   \n",
       "25%        NaN     NaN     NaN       NaN       1.000000     NaN     NaN   \n",
       "50%        NaN     NaN     NaN       NaN       3.000000     NaN     NaN   \n",
       "75%        NaN     NaN     NaN       NaN      10.000000     NaN     NaN   \n",
       "max        NaN     NaN     NaN       NaN     308.000000     NaN     NaN   \n",
       "\n",
       "                  총톤수                 입항일시                 출항일시  \\\n",
       "count   297287.000000               297458               297427   \n",
       "unique            NaN               110808               109003   \n",
       "top               NaN  1950-01-01 00:00:00  2020-08-12 16:00:00   \n",
       "freq              NaN                  157                   26   \n",
       "first             NaN  1950-01-01 00:00:00  2020-01-01 00:00:00   \n",
       "last              NaN  2021-12-31 23:58:00  2022-10-31 07:45:00   \n",
       "mean     24347.731698                  NaN                  NaN   \n",
       "std      33679.294969                  NaN                  NaN   \n",
       "min          0.000000                  NaN                  NaN   \n",
       "25%       3869.000000                  NaN                  NaN   \n",
       "50%       9749.000000                  NaN                  NaN   \n",
       "75%      30082.000000                  NaN                  NaN   \n",
       "max     346165.000000                  NaN                  NaN   \n",
       "\n",
       "                       수리일시      선종             목적지    전출항지    선박용도  \n",
       "count                297173  297367          297229  296958  297405  \n",
       "unique               110398      11            1520    1390      39  \n",
       "top     1950-01-01 00:00:00      기타  OCEAN DISTRICT      부산  풀컨테이너선  \n",
       "freq                    135  293117           14993   18367   87143  \n",
       "first   1950-01-01 00:00:00     NaN             NaN     NaN     NaN  \n",
       "last    2022-09-29 17:33:00     NaN             NaN     NaN     NaN  \n",
       "mean                    NaN     NaN             NaN     NaN     NaN  \n",
       "std                     NaN     NaN             NaN     NaN     NaN  \n",
       "min                     NaN     NaN             NaN     NaN     NaN  \n",
       "25%                     NaN     NaN             NaN     NaN     NaN  \n",
       "50%                     NaN     NaN             NaN     NaN     NaN  \n",
       "75%                     NaN     NaN             NaN     NaN     NaN  \n",
       "max                     NaN     NaN             NaN     NaN     NaN  "
      ]
     },
     "execution_count": 17,
     "metadata": {},
     "output_type": "execute_result"
    }
   ],
   "source": [
    "ship.describe(include='all')"
   ]
  },
  {
   "cell_type": "markdown",
   "id": "7baffb2b",
   "metadata": {},
   "source": [
    "## 2. 데이터 탐색"
   ]
  },
  {
   "cell_type": "markdown",
   "id": "f4702711",
   "metadata": {},
   "source": [
    "각 컬럼이 의미하는 바는 다음과 같다.\n",
    "\n",
    "- 항명: 항구 이름\n",
    "- 호출부호: 부호\n",
    "- 선명: 선박 이름\n",
    "- 연도: 입항/출항한 연도\n",
    "- 횟수: 입항/출항한 횟수\n",
    "- 구분: 최초/최종/변경\n",
    "- 입출: 입항/출항 구분\n",
    "- 총톤수: 무게\n",
    "- 입항일시: 입항한 연/월/일\n",
    "- 출항일시: 출항한 연/월/일\n",
    "- 수리일시: 수리한 연/월/일\n",
    "- 선종: 선박 종류\n",
    "- 목적지: 차항지\n",
    "- 전출항지: 직전에 출항한 장소\n",
    "- 선박용도: 선박의 용도"
   ]
  },
  {
   "cell_type": "markdown",
   "id": "525a0a17",
   "metadata": {},
   "source": [
    "각 컬럼에 어떤 항목이 얼마나 들어있는지 간단히 파악해보자."
   ]
  },
  {
   "cell_type": "code",
   "execution_count": 18,
   "id": "e92eaccc",
   "metadata": {},
   "outputs": [
    {
     "data": {
      "text/plain": [
       "부산          91344\n",
       "울산          43969\n",
       "인천          29861\n",
       "광양          26003\n",
       "평택          20278\n",
       "여천          20001\n",
       "여수          13989\n",
       "대산          11038\n",
       "포항신항         9546\n",
       "군산           7010\n",
       "마산           6576\n",
       "동해           3802\n",
       "통영           2592\n",
       "대불분실         2583\n",
       "영일만항         1479\n",
       "고현           1110\n",
       "보령            791\n",
       "진해            746\n",
       "태안            478\n",
       "호산            475\n",
       "옥포            449\n",
       "당진화력          448\n",
       "옥계            425\n",
       "삼천포           390\n",
       "장항            368\n",
       "묵호            344\n",
       "경인            291\n",
       "하동            282\n",
       "속초            234\n",
       "목포            211\n",
       "제주            210\n",
       "불개항-불개항청       51\n",
       "거문도            32\n",
       "포항             26\n",
       "완도             10\n",
       "흑산도             8\n",
       "삼척              4\n",
       "장승포             2\n",
       "용기포             2\n",
       "Name: 항명, dtype: int64"
      ]
     },
     "execution_count": 18,
     "metadata": {},
     "output_type": "execute_result"
    }
   ],
   "source": [
    "ship['항명'].value_counts()"
   ]
  },
  {
   "cell_type": "code",
   "execution_count": 19,
   "id": "351327cc",
   "metadata": {},
   "outputs": [
    {
     "data": {
      "text/plain": [
       "뉴 카멜리아             1189\n",
       "산스타드림               762\n",
       "HAMAYUU             688\n",
       "성희호                 682\n",
       "흥아울산호               634\n",
       "                   ... \n",
       "NEVER                 1\n",
       "GASLOG WALES          1\n",
       "대천에이스                 1\n",
       "TVERSKOY BRIDGE       1\n",
       "CMA CGM JAMAICA       1\n",
       "Name: 선명, Length: 16089, dtype: int64"
      ]
     },
     "execution_count": 19,
     "metadata": {},
     "output_type": "execute_result"
    }
   ],
   "source": [
    "ship['선명'].value_counts()"
   ]
  },
  {
   "cell_type": "code",
   "execution_count": 20,
   "id": "e93ce79a",
   "metadata": {},
   "outputs": [
    {
     "data": {
      "text/plain": [
       "2020    150607\n",
       "2021    146081\n",
       "2019       756\n",
       "2018         7\n",
       "2017         5\n",
       "2014         1\n",
       "2022         1\n",
       "Name: 연도, dtype: int64"
      ]
     },
     "execution_count": 20,
     "metadata": {},
     "output_type": "execute_result"
    }
   ],
   "source": [
    "ship['연도'].value_counts()"
   ]
  },
  {
   "cell_type": "code",
   "execution_count": 21,
   "id": "fe952f72",
   "metadata": {},
   "outputs": [
    {
     "data": {
      "text/plain": [
       "최종    297271\n",
       "최초       106\n",
       "변경        81\n",
       "Name: 구분, dtype: int64"
      ]
     },
     "execution_count": 21,
     "metadata": {},
     "output_type": "execute_result"
    }
   ],
   "source": [
    "ship['구분'].value_counts()"
   ]
  },
  {
   "cell_type": "code",
   "execution_count": 22,
   "id": "a05b1453",
   "metadata": {},
   "outputs": [
    {
     "data": {
      "text/plain": [
       "출항    148767\n",
       "입항    148691\n",
       "Name: 입출, dtype: int64"
      ]
     },
     "execution_count": 22,
     "metadata": {},
     "output_type": "execute_result"
    }
   ],
   "source": [
    "ship['입출'].value_counts()"
   ]
  },
  {
   "cell_type": "code",
   "execution_count": 23,
   "id": "8b6ad411",
   "metadata": {},
   "outputs": [
    {
     "data": {
      "text/plain": [
       "기타         293117\n",
       "내외항자격변경      1716\n",
       "원양조업선        1391\n",
       "일시외항          622\n",
       "신조선           378\n",
       "선명변경           72\n",
       "수출선박           31\n",
       "외국적 내항선        24\n",
       "폐선예정            9\n",
       "실습선,관공선         6\n",
       "개인항해            1\n",
       "Name: 선종, dtype: int64"
      ]
     },
     "execution_count": 23,
     "metadata": {},
     "output_type": "execute_result"
    }
   ],
   "source": [
    "ship['선종'].value_counts()"
   ]
  },
  {
   "cell_type": "code",
   "execution_count": 24,
   "id": "030df94d",
   "metadata": {},
   "outputs": [
    {
     "data": {
      "text/plain": [
       "OCEAN DISTRICT       14993\n",
       "부산                   14159\n",
       "광양                   13534\n",
       "SINGAPORE            11730\n",
       "울산                   10674\n",
       "                     ...  \n",
       "HIRASAKI                 1\n",
       "SHENYANG                 1\n",
       "BENGKALIS, ST            1\n",
       "HAIFA                    1\n",
       "BALONGAN TERMINAL        1\n",
       "Name: 목적지, Length: 1520, dtype: int64"
      ]
     },
     "execution_count": 24,
     "metadata": {},
     "output_type": "execute_result"
    }
   ],
   "source": [
    "ship['목적지'].value_counts()"
   ]
  },
  {
   "cell_type": "code",
   "execution_count": 25,
   "id": "a771e986",
   "metadata": {},
   "outputs": [
    {
     "data": {
      "text/plain": [
       "부산                   18367\n",
       "울산                   12283\n",
       "SHANGHAI              9502\n",
       "QINGDAO               8770\n",
       "인천                    8589\n",
       "                     ...  \n",
       "BALONGAN TERMINAL        1\n",
       "MISAKI, KANAGAWA         1\n",
       "JOHOR BAHRU              1\n",
       "MARSHALL                 1\n",
       "YANAI                    1\n",
       "Name: 전출항지, Length: 1390, dtype: int64"
      ]
     },
     "execution_count": 25,
     "metadata": {},
     "output_type": "execute_result"
    }
   ],
   "source": [
    "ship['전출항지'].value_counts()"
   ]
  },
  {
   "cell_type": "code",
   "execution_count": 26,
   "id": "d3d2aa4c",
   "metadata": {
    "scrolled": false
   },
   "outputs": [
    {
     "data": {
      "text/plain": [
       "풀컨테이너선         87143\n",
       "일반화물선          56676\n",
       "석유제품 운반선       31415\n",
       "산물선(벌크선)       29500\n",
       "케미칼 운반선        24100\n",
       "LPG 운반선        12108\n",
       "자동차운반선         11602\n",
       "국제카페리           8881\n",
       "원양 어선           8726\n",
       "원유운반선           5806\n",
       "냉동.냉장선          4887\n",
       "LNG 운반선         4151\n",
       "세미(혼재)컨테이너선     3867\n",
       "여객선             2418\n",
       "케미칼가스 운반선       1424\n",
       "시멘트운반선          1113\n",
       "기타 예선           1065\n",
       "견인용예선            640\n",
       "기타선              430\n",
       "기타 유조선           349\n",
       "철강재 운반선          319\n",
       "신조선              176\n",
       "광석운반선            174\n",
       "군함               162\n",
       "석탄운반선             96\n",
       "크루즈선              59\n",
       "원목운반선             41\n",
       "수상레저기구            15\n",
       "기타 부선             12\n",
       "연근해 어선            10\n",
       "용달선               10\n",
       "관공선                9\n",
       "준설선                6\n",
       "일반화물운반용 부선         3\n",
       "급유선                3\n",
       "화객선                3\n",
       "이.접안용 예선           2\n",
       "유람선                2\n",
       "압항 예선              2\n",
       "Name: 선박용도, dtype: int64"
      ]
     },
     "execution_count": 26,
     "metadata": {},
     "output_type": "execute_result"
    }
   ],
   "source": [
    "ship['선박용도'].value_counts()"
   ]
  },
  {
   "cell_type": "markdown",
   "id": "f62446b2",
   "metadata": {},
   "source": [
    "2020년과 2021년을 대상으로 자료를 다운받았으나, 다른연도가 일부 포함되어있어 그 행은 제거해주었다."
   ]
  },
  {
   "cell_type": "code",
   "execution_count": 27,
   "id": "7c4efa21",
   "metadata": {},
   "outputs": [
    {
     "data": {
      "text/plain": [
       "2020    150607\n",
       "2021    146081\n",
       "2014         0\n",
       "2017         0\n",
       "2018         0\n",
       "2019         0\n",
       "2022         0\n",
       "Name: 연도, dtype: int64"
      ]
     },
     "execution_count": 27,
     "metadata": {},
     "output_type": "execute_result"
    }
   ],
   "source": [
    "ship=ship[(ship['연도']==2020)|(ship['연도']==2021)]\n",
    "year_num=ship['연도'].value_counts()\n",
    "year_num"
   ]
  },
  {
   "cell_type": "markdown",
   "id": "43f7df92",
   "metadata": {},
   "source": [
    "## 3. 데이터 시각화"
   ]
  },
  {
   "cell_type": "markdown",
   "id": "da289e85",
   "metadata": {},
   "source": [
    "선박입출항현황 데이터를 통해 다음을 탐색하고자 한다.\n",
    "\n",
    "1. 항명별 입출항횟수와 비율 [막대형, 파이형 그래프]\n",
    "2. 연도와 입출 [막대형 그래프]\n",
    "3. 입출별 총톤수 [박스플롯]\n",
    "4. 선박용도별 입항/출항횟수와 비율 [막대형, 파이형 그래프]\n",
    "5. <부록> 입출항횟수와 총톤수 [산점도]"
   ]
  },
  {
   "cell_type": "code",
   "execution_count": 28,
   "id": "bb4f4860",
   "metadata": {},
   "outputs": [],
   "source": [
    "from matplotlib import font_manager, rc\n",
    "font_name = font_manager.FontProperties(fname=\"c:/Windows/Fonts/malgun.ttf\").get_name()\n",
    "rc('font', family=font_name)"
   ]
  },
  {
   "cell_type": "markdown",
   "id": "e6698fb7",
   "metadata": {},
   "source": [
    "### 3-1. 항명별 입출항횟수와 비율"
   ]
  },
  {
   "cell_type": "code",
   "execution_count": 29,
   "id": "5c6beafa",
   "metadata": {
    "scrolled": true
   },
   "outputs": [
    {
     "data": {
      "image/png": "[encoded data removed]",
      "text/plain": [
       "<Figure size 432x288 with 1 Axes>"
      ]
     },
     "metadata": {
      "needs_background": "light"
     },
     "output_type": "display_data"
    }
   ],
   "source": [
    "port=ship['횟수'].groupby(ship['항명'])\n",
    "port_count=port.sum()\n",
    "\n",
    "plt.bar(port_count.index, port_count.values)\n",
    "plt.rc('font', size=7)\n",
    "plt.xticks(rotation=90)\n",
    "plt.title('항구별 선박입출항 횟수')\n",
    "plt.show()"
   ]
  },
  {
   "cell_type": "markdown",
   "id": "ac6879ed",
   "metadata": {},
   "source": [
    "10의 -6승으로 y축이 표현된 것을 알 수 있다."
   ]
  },
  {
   "cell_type": "code",
   "execution_count": 30,
   "id": "9876ee6d",
   "metadata": {
    "scrolled": true
   },
   "outputs": [
    {
     "data": {
      "text/plain": [
       "항명\n",
       "거문도              88\n",
       "경인             4742\n",
       "고현            11535\n",
       "광양           194737\n",
       "군산            62772\n",
       "당진화력           1074\n",
       "대불분실           4297\n",
       "대산            54721\n",
       "동해            23667\n",
       "마산            43223\n",
       "목포              688\n",
       "묵호              662\n",
       "보령             1751\n",
       "부산          1277314\n",
       "불개항-불개항청        113\n",
       "삼척                4\n",
       "삼천포             563\n",
       "속초              492\n",
       "여수            24395\n",
       "여천           106180\n",
       "영일만항          11294\n",
       "옥계             3184\n",
       "옥포             1549\n",
       "완도               13\n",
       "용기포              42\n",
       "울산           335840\n",
       "인천           548559\n",
       "장승포               2\n",
       "장항              586\n",
       "제주              256\n",
       "진해             3233\n",
       "태안             1187\n",
       "통영            44524\n",
       "평택           275445\n",
       "포항              295\n",
       "포항신항          32335\n",
       "하동              568\n",
       "호산              894\n",
       "흑산도              10\n",
       "Name: 횟수, dtype: int64"
      ]
     },
     "execution_count": 30,
     "metadata": {},
     "output_type": "execute_result"
    }
   ],
   "source": [
    "port_count"
   ]
  },
  {
   "cell_type": "markdown",
   "id": "0b48e74d",
   "metadata": {},
   "source": [
    "내림차순으로 정렬하면 다음과 같다."
   ]
  },
  {
   "cell_type": "code",
   "execution_count": 31,
   "id": "f9f67159",
   "metadata": {
    "scrolled": true
   },
   "outputs": [
    {
     "data": {
      "image/png": "[encoded data removed]",
      "text/plain": [
       "<Figure size 432x288 with 1 Axes>"
      ]
     },
     "metadata": {
      "needs_background": "light"
     },
     "output_type": "display_data"
    }
   ],
   "source": [
    "port_count.sort_values(ascending=False).plot(kind='bar')\n",
    "plt.title('항구별 선박입출항 횟수 - 내림차순')\n",
    "plt.show()"
   ]
  },
  {
   "cell_type": "markdown",
   "id": "d42c97a0",
   "metadata": {},
   "source": [
    "각 항구가 차지하는 입출항 비율을 파이형 그래프로 나타내보았다. "
   ]
  },
  {
   "cell_type": "code",
   "execution_count": 32,
   "id": "8ade4f02",
   "metadata": {
    "scrolled": true
   },
   "outputs": [
    {
     "data": {
      "image/png": "[encoded data removed]",
      "text/plain": [
       "<Figure size 432x288 with 1 Axes>"
      ]
     },
     "metadata": {},
     "output_type": "display_data"
    }
   ],
   "source": [
    "port_count=port_count.sort_values(ascending=False)\n",
    "labels = []\n",
    "for i in port_count.index:\n",
    "    labels.append(i)\n",
    "sizes = []\n",
    "for i in port_count.values/sum(port_count.values):\n",
    "    sizes.append(i)\n",
    "\n",
    "fig1, ax1 = plt.subplots()\n",
    "ax1.pie(sizes, labels=labels, autopct='%1.1f%%',\n",
    "        shadow=True, startangle=90)\n",
    "ax1.axis('equal')\n",
    "plt.title('각 항구가 차지하는 선박입출항 비율')\n",
    "plt.show()"
   ]
  },
  {
   "cell_type": "markdown",
   "id": "d8c13be3",
   "metadata": {},
   "source": [
    "부산 1,277,314건(41.6%), 인천 548,559건(17.9%), 울산 335,840건(10.9%) 순으로 입출항횟수가 많은 것을 확인할 수 있었다."
   ]
  },
  {
   "cell_type": "markdown",
   "id": "abd77d19",
   "metadata": {},
   "source": [
    "### 3-2. 연도와 입출"
   ]
  },
  {
   "cell_type": "code",
   "execution_count": 33,
   "id": "7350d695",
   "metadata": {
    "scrolled": true
   },
   "outputs": [
    {
     "data": {
      "image/png": "[encoded data removed]",
      "text/plain": [
       "<Figure size 432x288 with 1 Axes>"
      ]
     },
     "metadata": {
      "needs_background": "light"
     },
     "output_type": "display_data"
    }
   ],
   "source": [
    "counts = pd.crosstab(ship['연도'], ship['입출'])\n",
    "counts.plot(kind='bar', stacked=True)\n",
    "num=ship[(ship['연도']==2020)|(ship['입출']=='입항')]\n",
    "plt.title('각 연도와 입출의 빈도 비교')\n",
    "plt.show()"
   ]
  },
  {
   "cell_type": "code",
   "execution_count": 34,
   "id": "3f3ea8be",
   "metadata": {},
   "outputs": [
    {
     "data": {
      "text/html": [
       "<div>\n",
       "<style scoped>\n",
       "    .dataframe tbody tr th:only-of-type {\n",
       "        vertical-align: middle;\n",
       "    }\n",
       "\n",
       "    .dataframe tbody tr th {\n",
       "        vertical-align: top;\n",
       "    }\n",
       "\n",
       "    .dataframe thead th {\n",
       "        text-align: right;\n",
       "    }\n",
       "</style>\n",
       "<table border=\"1\" class=\"dataframe\">\n",
       "  <thead>\n",
       "    <tr style=\"text-align: right;\">\n",
       "      <th>입출</th>\n",
       "      <th>입항</th>\n",
       "      <th>출항</th>\n",
       "    </tr>\n",
       "    <tr>\n",
       "      <th>연도</th>\n",
       "      <th></th>\n",
       "      <th></th>\n",
       "    </tr>\n",
       "  </thead>\n",
       "  <tbody>\n",
       "    <tr>\n",
       "      <th>2020</th>\n",
       "      <td>75277</td>\n",
       "      <td>75330</td>\n",
       "    </tr>\n",
       "    <tr>\n",
       "      <th>2021</th>\n",
       "      <td>73358</td>\n",
       "      <td>72723</td>\n",
       "    </tr>\n",
       "  </tbody>\n",
       "</table>\n",
       "</div>"
      ],
      "text/plain": [
       "입출       입항     출항\n",
       "연도                \n",
       "2020  75277  75330\n",
       "2021  73358  72723"
      ]
     },
     "execution_count": 34,
     "metadata": {},
     "output_type": "execute_result"
    }
   ],
   "source": [
    "counts"
   ]
  },
  {
   "cell_type": "markdown",
   "id": "adda094d",
   "metadata": {},
   "source": [
    "2020년과 2021년의 국제선박무역 추이는 소폭 감소하였을 뿐 큰 차이가 없음이 확인되었다.\n",
    "\n",
    "입항과 출항 또한 두 연도간 차이가 크지 않은 것으로 나타났다."
   ]
  },
  {
   "cell_type": "code",
   "execution_count": 35,
   "id": "3f523095",
   "metadata": {},
   "outputs": [
    {
     "name": "stdout",
     "output_type": "stream",
     "text": [
      "2020년 대비 2021년 선박입출항 증감률 = -3.0051724023451767 %\n"
     ]
    }
   ],
   "source": [
    "rate=((year_num.values[year_num.index==2021] - year_num.values[year_num.index==2020]) / year_num.values[year_num.index==2020])*100\n",
    "print('2020년 대비 2021년 선박입출항 증감률 =', float(rate), '%')"
   ]
  },
  {
   "cell_type": "markdown",
   "id": "805bd137",
   "metadata": {},
   "source": [
    "실제로 계산한 결과 약 -3%의 감소율만을 보여주었다."
   ]
  },
  {
   "cell_type": "markdown",
   "id": "825e7ed5",
   "metadata": {},
   "source": [
    "### 3-3. 입출별 총톤수"
   ]
  },
  {
   "cell_type": "code",
   "execution_count": 36,
   "id": "bcd19f0b",
   "metadata": {
    "scrolled": false
   },
   "outputs": [
    {
     "data": {
      "image/png": "[encoded data removed]",
      "text/plain": [
       "<Figure size 432x288 with 1 Axes>"
      ]
     },
     "metadata": {
      "needs_background": "light"
     },
     "output_type": "display_data"
    }
   ],
   "source": [
    "ship.boxplot(column=['총톤수'], by='입출')\n",
    "plt.title('입출에 따른 총톤수')\n",
    "plt.show()"
   ]
  },
  {
   "cell_type": "markdown",
   "id": "149f24c6",
   "metadata": {},
   "source": [
    "입항과 출항 간의 총톤수 또한 중앙값, 제1사분위수, 제3사분위수, 이상치 등 큰 차이가 없었다.\n",
    "\n",
    "출항인 경우에서 다른 값과 오차가 많이 나는 총톤수 데이터가 존재한다."
   ]
  },
  {
   "cell_type": "markdown",
   "id": "cc718544",
   "metadata": {},
   "source": [
    "### 3-4. 선박용도별 입항/출항횟수와 비율"
   ]
  },
  {
   "cell_type": "markdown",
   "id": "4fb912bc",
   "metadata": {},
   "source": [
    "부분집합을 만들어 입항인 경우와 출항인 경우의 선박용도별 비율을 구해 비교하고자 한다. "
   ]
  },
  {
   "cell_type": "code",
   "execution_count": 40,
   "id": "1ece0413",
   "metadata": {},
   "outputs": [],
   "source": [
    "imports=ship[ship['입출']=='입항']\n",
    "exports=ship[ship['입출']=='출항']"
   ]
  },
  {
   "cell_type": "code",
   "execution_count": 41,
   "id": "a50634c2",
   "metadata": {
    "scrolled": false
   },
   "outputs": [
    {
     "data": {
      "image/png": "[encoded data removed]",
      "text/plain": [
       "<Figure size 432x288 with 1 Axes>"
      ]
     },
     "metadata": {
      "needs_background": "light"
     },
     "output_type": "display_data"
    }
   ],
   "source": [
    "imports_uses=imports['횟수'].groupby(imports['선박용도'])\n",
    "imports_uses_count=imports_uses.sum()\n",
    "\n",
    "plt.bar(imports_uses_count.index, imports_uses_count.values)\n",
    "plt.rc('font', size=7)\n",
    "plt.xticks(rotation=90)\n",
    "plt.show()"
   ]
  },
  {
   "cell_type": "code",
   "execution_count": 50,
   "id": "8298df05",
   "metadata": {},
   "outputs": [
    {
     "data": {
      "text/plain": [
       "선박용도\n",
       "풀컨테이너선         584572\n",
       "국제카페리          303403\n",
       "여객선            116296\n",
       "일반화물선          109651\n",
       "석유제품 운반선        97676\n",
       "케미칼 운반선         90293\n",
       "세미(혼재)컨테이너선     62074\n",
       "LPG 운반선         35688\n",
       "냉동.냉장선          34456\n",
       "산물선(벌크선)        31046\n",
       "원양 어선           27940\n",
       "자동차운반선          13279\n",
       "시멘트운반선           8304\n",
       "원유운반선            5437\n",
       "케미칼가스 운반선        5279\n",
       "기타 예선            5124\n",
       "LNG 운반선          4132\n",
       "견인용예선            2850\n",
       "철강재 운반선          1470\n",
       "기타선               842\n",
       "기타 유조선            450\n",
       "석탄운반선             205\n",
       "광석운반선             194\n",
       "군함                175\n",
       "신조선                69\n",
       "크루즈선               68\n",
       "원목운반선              29\n",
       "수상레저기구             14\n",
       "기타 부선              12\n",
       "관공선                11\n",
       "연근해 어선             10\n",
       "일반화물운반용 부선          9\n",
       "용달선                 8\n",
       "준설선                 5\n",
       "급유선                 2\n",
       "유람선                 1\n",
       "압항 예선               1\n",
       "화객선                 1\n",
       "이.접안용 예선            0\n",
       "Name: 횟수, dtype: int64"
      ]
     },
     "execution_count": 50,
     "metadata": {},
     "output_type": "execute_result"
    }
   ],
   "source": [
    "imports_uses_count"
   ]
  },
  {
   "cell_type": "code",
   "execution_count": 47,
   "id": "ad58f001",
   "metadata": {
    "scrolled": false
   },
   "outputs": [
    {
     "data": {
      "image/png": "[encoded data removed]",
      "text/plain": [
       "<Figure size 432x288 with 1 Axes>"
      ]
     },
     "metadata": {},
     "output_type": "display_data"
    }
   ],
   "source": [
    "imports_uses_count=imports_uses_count.sort_values(ascending=False)\n",
    "labels = []\n",
    "for i in imports_uses_count.index:\n",
    "    labels.append(i)\n",
    "sizes = []\n",
    "for i in imports_uses_count.values/sum(imports_uses_count.values):\n",
    "    sizes.append(i)\n",
    "\n",
    "fig1, ax1 = plt.subplots()\n",
    "ax1.pie(sizes, labels=labels, autopct='%1.1f%%',\n",
    "        shadow=True, startangle=90)\n",
    "ax1.axis('equal')\n",
    "plt.title('용도별 선박입항 비율')\n",
    "plt.show()"
   ]
  },
  {
   "cell_type": "markdown",
   "id": "94c20757",
   "metadata": {},
   "source": [
    "입항인 경우, 풀컨테이너선 584,572건(37.9%), 국제카페리 303,403건(19.7%), 여객선 116,296건(7.5%) 순으로 입항횟수가 많은 것을 확인할 수 있었다."
   ]
  },
  {
   "cell_type": "code",
   "execution_count": 42,
   "id": "3ef4f8ba",
   "metadata": {
    "scrolled": false
   },
   "outputs": [
    {
     "data": {
      "image/png": "[encoded data removed]",
      "text/plain": [
       "<Figure size 432x288 with 1 Axes>"
      ]
     },
     "metadata": {
      "needs_background": "light"
     },
     "output_type": "display_data"
    }
   ],
   "source": [
    "exports_uses=exports['횟수'].groupby(exports['선박용도'])\n",
    "exports_uses_count=exports_uses.sum()\n",
    "\n",
    "plt.bar(exports_uses_count.index, exports_uses_count.values)\n",
    "plt.rc('font', size=7)\n",
    "plt.xticks(rotation=90)\n",
    "plt.show()"
   ]
  },
  {
   "cell_type": "code",
   "execution_count": 51,
   "id": "b5187fc4",
   "metadata": {},
   "outputs": [
    {
     "data": {
      "text/plain": [
       "선박용도\n",
       "풀컨테이너선         583212\n",
       "국제카페리          302827\n",
       "여객선            115817\n",
       "일반화물선          108397\n",
       "석유제품 운반선        96400\n",
       "케미칼 운반선         89056\n",
       "세미(혼재)컨테이너선     61819\n",
       "LPG 운반선         35810\n",
       "냉동.냉장선          34171\n",
       "산물선(벌크선)        29308\n",
       "원양 어선           27526\n",
       "자동차운반선          13249\n",
       "시멘트운반선           7965\n",
       "원유운반선            5511\n",
       "케미칼가스 운반선        5121\n",
       "기타 예선            4959\n",
       "LNG 운반선          4187\n",
       "견인용예선            2797\n",
       "철강재 운반선          1449\n",
       "기타선               854\n",
       "기타 유조선            448\n",
       "석탄운반선             205\n",
       "광석운반선             191\n",
       "군함                162\n",
       "신조선               108\n",
       "크루즈선               66\n",
       "원목운반선              28\n",
       "관공선                14\n",
       "수상레저기구             10\n",
       "용달선                 6\n",
       "화객선                 5\n",
       "연근해 어선              4\n",
       "이.접안용 예선            2\n",
       "준설선                 2\n",
       "기타 부선               2\n",
       "유람선                 1\n",
       "압항 예선               1\n",
       "급유선                 1\n",
       "일반화물운반용 부선          0\n",
       "Name: 횟수, dtype: int64"
      ]
     },
     "execution_count": 51,
     "metadata": {},
     "output_type": "execute_result"
    }
   ],
   "source": [
    "exports_uses_count"
   ]
  },
  {
   "cell_type": "code",
   "execution_count": 55,
   "id": "0fc3f30e",
   "metadata": {},
   "outputs": [
    {
     "data": {
      "image/png": "[encoded data removed]",
      "text/plain": [
       "<Figure size 432x288 with 1 Axes>"
      ]
     },
     "metadata": {},
     "output_type": "display_data"
    }
   ],
   "source": [
    "exports_uses_count=exports_uses_count.sort_values(ascending=False)\n",
    "labels = []\n",
    "for i in exports_uses_count.index:\n",
    "    labels.append(i)\n",
    "sizes = []\n",
    "for i in exports_uses_count.values/sum(exports_uses_count.values):\n",
    "    sizes.append(i)\n",
    "\n",
    "fig1, ax1 = plt.subplots()\n",
    "ax1.pie(sizes, labels=labels, autopct='%1.1f%%',\n",
    "        shadow=True, startangle=90)\n",
    "ax1.axis('equal')\n",
    "plt.title('용도별 선박출항 비율')\n",
    "plt.show()"
   ]
  },
  {
   "cell_type": "markdown",
   "id": "416da52a",
   "metadata": {},
   "source": [
    "출항인 경우, 풀컨테이너선 583,212건(35.1%), 국제카페리 302,827건(19.5%), 여객선 115,817건(7.6%) 순으로 출항횟수가 많은 것을 확인할 수 있었다."
   ]
  },
  {
   "cell_type": "markdown",
   "id": "90045903",
   "metadata": {},
   "source": [
    "입항인 경우와 출항인 경우 용도별 선박 비율이 굉장히 유사하였다. "
   ]
  },
  {
   "cell_type": "markdown",
   "id": "50fdc5c4",
   "metadata": {},
   "source": [
    "### 3-5. <부록> 입항횟수와 총톤수"
   ]
  },
  {
   "cell_type": "markdown",
   "id": "8838153e",
   "metadata": {},
   "source": [
    "그렇다면 1,4번 그래프의 y축을 총톤수로 변경해보자.\n",
    "\n",
    "우선 입항횟수 증가에 따른 총톤수 증감 추이를 살펴보기로 한다."
   ]
  },
  {
   "cell_type": "code",
   "execution_count": 56,
   "id": "d47ab51a",
   "metadata": {
    "scrolled": true
   },
   "outputs": [
    {
     "data": {
      "image/png": "[encoded data removed]",
      "text/plain": [
       "<Figure size 432x288 with 1 Axes>"
      ]
     },
     "metadata": {
      "needs_background": "light"
     },
     "output_type": "display_data"
    }
   ],
   "source": [
    "plt.scatter(ship['횟수'], ship['총톤수'], s=3, alpha=0.5)\n",
    "plt.xlabel('입출항횟수')\n",
    "plt.ylabel('총톤수')\n",
    "plt.title('입출항횟수에 따른 총톤수')\n",
    "plt.show()"
   ]
  },
  {
   "cell_type": "markdown",
   "id": "b4334070",
   "metadata": {},
   "source": [
    "입출항횟수가 많다고 꼭 총톤수가 많은 것은 아니었다.\n",
    "\n",
    "아래에서도 볼 수 있듯이, 1번 그래프의 y축을 총톤수로 바꿨을 때 나타나는 비율은 차이가 있었다."
   ]
  },
  {
   "cell_type": "code",
   "execution_count": 57,
   "id": "3b4215c7",
   "metadata": {
    "scrolled": false
   },
   "outputs": [
    {
     "data": {
      "image/png": "[encoded data removed]",
      "text/plain": [
       "<Figure size 432x288 with 1 Axes>"
      ]
     },
     "metadata": {},
     "output_type": "display_data"
    }
   ],
   "source": [
    "port=ship['총톤수'].groupby(ship['항명'])\n",
    "port_count=port.sum()\n",
    "port_count=port_count.sort_values(ascending=False)\n",
    "labels = []\n",
    "for i in port_count.index:\n",
    "    labels.append(i)\n",
    "sizes = []\n",
    "for i in port_count.values/sum(port_count.values):\n",
    "    sizes.append(i)\n",
    "\n",
    "fig1, ax1 = plt.subplots()\n",
    "ax1.pie(sizes, labels=labels, autopct='%1.1f%%',\n",
    "        shadow=True, startangle=90)\n",
    "ax1.axis('equal')\n",
    "plt.title('각 항구가 차지하는 총톤수 비율')\n",
    "plt.show()"
   ]
  },
  {
   "cell_type": "markdown",
   "id": "589e6160",
   "metadata": {},
   "source": [
    "부산 41.6%, 인천 17.9%, 울산 10.9% 순으로 입출항횟수가 많았지만,\n",
    "\n",
    "부산 33.5%, 울산 10.6%, 광양 10.1% 순으로 총톤수가 많은 것을 확인할 수 있었다."
   ]
  },
  {
   "cell_type": "markdown",
   "id": "971eba80",
   "metadata": {},
   "source": [
    "## 4. 발견한 점"
   ]
  },
  {
   "cell_type": "markdown",
   "id": "59c68af3",
   "metadata": {},
   "source": [
    "2020~2021년 동안 전반적인 입출항횟수가 가장 많았던 항구는 부산항이었다. 인천항, 울산항이 그 뒤를 이었다.\n",
    "\n",
    "코로나로 인한 국제무역 둔화를 예상했던 것과는 다르게, 2020년과 2021년의 입출항횟수는 약 -3%의 감소를 보이며 큰 차이가 나타나지 않았다. 각 연도의 입항과 출항도 크게 다르지 않았다.\n",
    "\n",
    "입출에 따른 총톤수도 비슷한 통계값을 나타내었다.\n",
    "\n",
    "입항인 경우의 선박유형 비율과 출항인 경우의 선박유형 비율 또한 둘다 풀컨테이너선, 국제카페리, 여객선 순으로 상당히 유사하였다.\n",
    "\n",
    "마지막으로 입출항횟수와 총톤수는 완벽한 양의 관계를 나타내진 않았다. 첫번째로 살펴보았던 항명과 입출항횟수의 관계를 항명과 총톤수로 변경하였을 때, 부산>인천>울산 순에서 부산>울산>광양 순으로 결과값이 다른 모습을 보였다."
   ]
  }
 ],
 "metadata": {
  "kernelspec": {
   "display_name": "Python 3 (ipykernel)",
   "language": "python",
   "name": "python3"
  },
  "language_info": {
   "codemirror_mode": {
    "name": "ipython",
    "version": 3
   },
   "file_extension": ".py",
   "mimetype": "text/x-python",
   "name": "python",
   "nbconvert_exporter": "python",
   "pygments_lexer": "ipython3",
   "version": "3.9.12"
  }
 },
 "nbformat": 4,
 "nbformat_minor": 5
}
